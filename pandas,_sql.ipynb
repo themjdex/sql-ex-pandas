{
  "cells": [
    {
      "cell_type": "code",
      "execution_count": null,
      "metadata": {
        "id": "_L3SAz7B88oK"
      },
      "outputs": [],
      "source": [
        "import pandas as pd"
      ]
    },
    {
      "cell_type": "markdown",
      "metadata": {
        "id": "NwuUqKFVAZud"
      },
      "source": [
        "# Создание датафреймов (пункты приема)"
      ]
    },
    {
      "cell_type": "code",
      "execution_count": null,
      "metadata": {
        "id": "cHVU90459BVR"
      },
      "outputs": [],
      "source": [
        "income_o_data = {\n",
        "    'point': [1, 1, 1, 1, 1, 2, 2, 3, 3],\n",
        "    'date': [\n",
        "        '2001-03-22',\n",
        "        '2001-03-23',\n",
        "        '2001-03-24',\n",
        "        '2001-04-13',\n",
        "        '2001-05-11',\n",
        "        '2001-03-22',\n",
        "        '2001-03-24',\n",
        "        '2001-09-13',\n",
        "        '2001-10-02'\n",
        "    ],\n",
        "    'inc': [15000, 15000, 3400, 5000, 4500, 10000, 1500, 11500, 18000]\n",
        "}\n",
        "income_o = pd.DataFrame(income_o_data)"
      ]
    },
    {
      "cell_type": "code",
      "execution_count": null,
      "metadata": {
        "id": "qG9meJzF9tgq"
      },
      "outputs": [],
      "source": [
        "outcome_o_data = {\n",
        "    'point': [1, 1, 1, 1, 1, 1, 1, 1, 1, 2, 2, 2, 3, 3, 3],\n",
        "    'date': [\n",
        "        '2001-03-14',\n",
        "        '2001-03-24',\n",
        "        '2001-03-26',\n",
        "        '2001-03-28',\n",
        "        '2001-03-29',\n",
        "        '2001-04-11',\n",
        "        '2001-04-13',\n",
        "        '2001-04-27',\n",
        "        '2001-05-11',\n",
        "        '2001-03-22',\n",
        "        '2001-03-29',\n",
        "        '2001-04-02',\n",
        "        '2001-09-13',\n",
        "        '2001-09-14',\n",
        "        '2002-09-16'\n",
        "    ],\n",
        "    'out': [15348, 3663, 1221, 2075, 2004, 3195, 4490, 3110, 2530, 1440, 7848, 2040, 1500, 2300, 2150]\n",
        "}\n",
        "outcome_o = pd.DataFrame(outcome_o_data)"
      ]
    },
    {
      "cell_type": "code",
      "execution_count": null,
      "metadata": {
        "id": "iHSh04ps-rNB"
      },
      "outputs": [],
      "source": [
        "income_data = {\n",
        "    'code': [1, 2, 3, 4, 5, 6, 7, 8, 9, 10, 11, 12, 13],\n",
        "    'point': [1, 1, 1, 2, 2, 1, 1, 1, 2, 1, 1, 3, 3],\n",
        "    'date': [\n",
        "        '2001-03-22',\n",
        "        '2001-03-23',\n",
        "        '2001-03-24',\n",
        "        '2001-03-22',\n",
        "        '2001-03-24',\n",
        "        '2001-04-13',\n",
        "        '2001-05-11',\n",
        "        '2001-03-22',\n",
        "        '2001-03-24',\n",
        "        '2001-04-13',\n",
        "        '2001-03-24',\n",
        "        '2001-09-13',\n",
        "        '2001-09-13'\n",
        "    ],\n",
        "    'inc': [15000, 15000, 3600, 10000, 1500, 5000, 4500, 15000, 1500, 5000, 3400, 1350, 1750]\n",
        "}\n",
        "income = pd.DataFrame(income_data)"
      ]
    },
    {
      "cell_type": "code",
      "execution_count": null,
      "metadata": {
        "id": "AlwsoOAt_Z0z"
      },
      "outputs": [],
      "source": [
        "outcome_data = {\n",
        "    'code': [1, 2, 3, 4, 5, 6, 7, 8, 9, 10, 11, 12, 13, 14, 15, 16, 17, 18],\n",
        "    'point': [1, 1, 1, 1, 1, 1, 1, 1, 1, 2, 2, 2, 1, 2, 1, 3, 3, 3],\n",
        "    'date': [\n",
        "        '2001-03-14',\n",
        "        '2001-03-24',\n",
        "        '2001-03-26',\n",
        "        '2001-03-28',\n",
        "        '2001-03-29',\n",
        "        '2001-04-11',\n",
        "        '2001-04-13',\n",
        "        '2001-04-27',\n",
        "        '2001-05-11',\n",
        "        '2001-03-22',\n",
        "        '2001-03-29',\n",
        "        '2001-04-02',\n",
        "        '2001-03-24',\n",
        "        '2001-03-22',\n",
        "        '2001-03-29',\n",
        "        '2001-09-13',\n",
        "        '2001-09-13',\n",
        "        '2001-09-14'\n",
        "    ],\n",
        "    'out': [15348, 3663, 1221, 2075, 2004, 3195, 4490, 3110, 2530, 1440, 7848, 2040, 3500, 1440, 2006, 1200, 1500, 1150]\n",
        "}\n",
        "outcome = pd.DataFrame(outcome_data)"
      ]
    },
    {
      "cell_type": "code",
      "execution_count": null,
      "metadata": {
        "id": "65xoltzE_xUB"
      },
      "outputs": [],
      "source": [
        "income_o['date'] = pd.to_datetime(income_o['date'])\n",
        "outcome_o['date'] = pd.to_datetime(outcome_o['date'])\n",
        "income['date'] = pd.to_datetime(income['date'])\n",
        "outcome['date'] = pd.to_datetime(outcome['date'])"
      ]
    },
    {
      "cell_type": "markdown",
      "metadata": {
        "id": "O9slheNTXvoD"
      },
      "source": [
        "# Создание датафреймов (полеты)"
      ]
    },
    {
      "cell_type": "code",
      "execution_count": null,
      "metadata": {
        "id": "MV5PIRA6X2Dt"
      },
      "outputs": [],
      "source": [
        "company_date = {\n",
        "    'ID_comp': [1, 2, 3, 4, 5],\n",
        "    'name': ['Don_avia', 'Aeroflot', 'Dale_avia', 'air_France', 'British_AW']\n",
        "}\n",
        "\n",
        "company = pd.DataFrame(company_date)"
      ]
    },
    {
      "cell_type": "code",
      "execution_count": null,
      "metadata": {
        "id": "midAOC3YX2An"
      },
      "outputs": [],
      "source": [
        "trip_data = {\n",
        "    'trip_no': [1100, 1101, 1123, 1124, 1145, 1146, 1181, 1182, 1187, 1188, 1195, 1196, 7771, 7772, 7773, 7774, 7775, 7776, 7777, 7778, 8881, 8882],\n",
        "    'ID_comp': [4, 4, 3, 3, 2, 2, 1, 1, 1, 1, 1, 1, 5, 5, 5, 5, 5, 5, 5, 5, 5, 5],\n",
        "    'plane': ['Boeing', 'Boeing', 'TU-154', 'TU-154', 'IL-86', 'IL-86', 'TU-134', 'TU-134', 'TU-134', 'TU-134', 'TU-154', 'TU-154', 'Boeing', 'Boeing', 'Boeing', 'Boeing', 'Boeing', 'Boeing', 'Boeing', 'Boeing', 'Boeing', 'Boeing'],\n",
        "    'town_from': ['Rostov', 'Paris', 'Rostov', 'Vladivostok', 'Moscow', 'Rostov', 'Rostov', 'Moscow', 'Rostov', 'Moscow', 'Rostov', 'Moscow', 'London', 'Singapore', 'London', 'Singapore', 'London', 'Singapore', 'London', 'Singapore', 'London', 'Paris'],\n",
        "    'town_to': ['Paris', 'Rostov', 'Vladivostok', 'Rostov', 'Rostov', 'Moscow', 'Moscow', 'Rostov', 'Moscow', 'Rostov', 'Moscow', 'Rostov', 'Singapore', 'London', 'Singapore', 'London', 'Singapore', 'London', 'Singapore', 'London', 'Paris', 'London'],\n",
        "    'time_out': [\n",
        "        '1900-01-01 14:30:00', '1900-01-01 08:12:00', '1900-01-01 16:20:00', '1900-01-01 09:00:00', '1900-01-01 09:35:00', '1900-01-01 17:55:00',\n",
        "        '1900-01-01 06:12:00', '1900-01-01 12:35:00', '1900-01-01 15:42:00', '1900-01-01 22:50:00', '1900-01-01 23:30:00', '1900-01-01 04:00:00',\n",
        "        '1900-01-01 01:00:00', '1900-01-01 12:00:00', '1900-01-01 03:00:00', '1900-01-01 14:00:00', '1900-01-01 09:00:00', '1900-01-01 18:00:00',\n",
        "        '1900-01-01 18:00:00', '1900-01-01 22:00:00', '1900-01-01 03:00:00', '1900-01-01 22:00:00'\n",
        "    ],\n",
        "    'time_in': [\n",
        "        '1900-01-01 17:50:00', '1900-01-01 11:45:00', '1900-01-01 03:40:00', '1900-01-01 19:50:00', '1900-01-01 11:23:00', '1900-01-01 20:01:00',\n",
        "        '1900-01-01 08:01:00', '1900-01-01 14:30:00', '1900-01-01 17:39:00', '1900-01-01 00:48:00', '1900-01-01 01:11:00', '1900-01-01 05:45:00',\n",
        "        '1900-01-01 11:00:00', '1900-01-01 02:00:00', '1900-01-01 13:00:00', '1900-01-01 06:00:00', '1900-01-01 20:00:00', '1900-01-01 08:00:00',\n",
        "        '1900-01-01 06:00:00', '1900-01-01 12:00:00', '1900-01-01 04:00:00', '1900-01-01 23:00:00'\n",
        "    ]\n",
        "}\n",
        "\n",
        "trip = pd.DataFrame(trip_data)"
      ]
    },
    {
      "cell_type": "code",
      "execution_count": null,
      "metadata": {
        "id": "NWURAHmdX15f"
      },
      "outputs": [],
      "source": [
        "passenger_data = {\n",
        "    'ID_psg': [\n",
        "        1, 2, 3, 4, 5, 6, 7, 8, 9, 10,\n",
        "        11, 12, 13, 14, 15, 16, 17, 18, 19, 20,\n",
        "        21, 22, 23, 24, 25, 26, 27, 28, 29, 30,\n",
        "        31, 37\n",
        "    ],\n",
        "    'name': [\n",
        "        'Bruce Willis', 'George Clooney', 'Kevin Costner', 'Donald Sutherland', 'Jennifer Lopez',\n",
        "        'Ray Liotta', 'Samuel L. Jackson', 'Nikole Kidman', 'Alan Rickman', 'Kurt Russell',\n",
        "        'Harrison Ford', 'Russell Crowe', 'Steve Martin', 'Michael Caine', 'Angelina Jolie',\n",
        "        'Mel Gibson', 'Michael Douglas', 'John Travolta', 'Sylvester Stallone', 'Tommy Lee Jones',\n",
        "        'Catherine Zeta-Jones', 'Antonio Banderas', 'Kim Basinger', 'Sam Neill', 'Gary Oldman',\n",
        "        'Clint Eastwood', 'Brad Pitt', 'Johnny Depp', 'Pierce Brosnan', 'Sean Connery',\n",
        "        'Bruce Willis', 'Mullah Omar'\n",
        "    ]\n",
        "}\n",
        "\n",
        "passenger = pd.DataFrame(passenger_data)"
      ]
    },
    {
      "cell_type": "code",
      "execution_count": null,
      "metadata": {
        "id": "dDykzFviX1lt"
      },
      "outputs": [],
      "source": [
        "pass_in_trip_data = {\n",
        "    'trip_no': [\n",
        "        1100, 1123, 1123, 1123, 1124, 1145, 1181, 1181, 1181, 1181,\n",
        "        1182, 1187, 1188, 1182, 1145, 8882, 7771, 7772, 8881, 7778,\n",
        "        7772, 7771, 7771, 7771, 7772, 7773, 7772, 8882, 7771, 7771,\n",
        "        7772, 1187\n",
        "    ],\n",
        "    'date': [\n",
        "        '2003-04-29', '2003-04-05', '2003-04-08', '2003-04-08', '2003-04-02', '2003-04-05',\n",
        "        '2003-04-01', '2003-04-01', '2003-04-01', '2003-04-13', '2003-04-13', '2003-04-14',\n",
        "        '2003-04-01', '2003-04-13', '2003-04-25', '2005-11-06', '2005-11-07', '2005-11-07',\n",
        "        '2005-11-08', '2005-11-05', '2005-11-29', '2005-11-04', '2005-11-07', '2005-11-09',\n",
        "        '2005-11-07', '2005-11-07', '2005-11-29', '2005-11-13', '2005-11-14', '2005-11-16',\n",
        "        '2005-11-29', '2003-04-14'\n",
        "    ],\n",
        "    'ID_psg': [\n",
        "        1, 3, 1, 6, 2, 3, 1, 6, 8, 5, 5, 8, 8, 9, 5, 37, 37, 37,\n",
        "        37, 10, 10, 11, 11, 11, 12, 13, 13, 14, 14, 14, 14, 10\n",
        "    ],\n",
        "    'place': [\n",
        "        '1a', '2a', '4c', '4b', '2d', '2c', '1a', '1b', '3c', '1b',\n",
        "        '4b', '3a', '3a', '6d', '1d', '1a', '1c', '1a', '1d', '2a',\n",
        "        '3a', '4a', '1b', '5a', '1d', '2d', '1b', '3d', '4d', '5d',\n",
        "        '1c', '3d'\n",
        "    ]\n",
        "}\n",
        "\n",
        "pass_in_trip = pd.DataFrame(pass_in_trip_data)"
      ]
    },
    {
      "cell_type": "code",
      "execution_count": null,
      "metadata": {
        "id": "5czaTYa_Z77j"
      },
      "outputs": [],
      "source": [
        "trip['time_out'] = pd.to_datetime(trip_data['time_out'])\n",
        "trip['time_in'] = pd.to_datetime(trip_data['time_in'])\n",
        "pass_in_trip['date'] = pd.to_datetime(pass_in_trip['date'])"
      ]
    },
    {
      "cell_type": "markdown",
      "metadata": {
        "id": "924eo7KtqONw"
      },
      "source": [
        "# Создание датафреймов (ПК и принтеры)"
      ]
    },
    {
      "cell_type": "code",
      "execution_count": null,
      "metadata": {
        "id": "15AKf9UcqTu0"
      },
      "outputs": [],
      "source": [
        "product_data = {\n",
        "    'maker': ['B', 'A', 'A', 'E', 'A', 'D', 'A', 'C', 'A', 'A', 'D', 'E', 'B', 'A', 'E', 'E'],\n",
        "    'model': [1121, 1232, 1233, 1260, 1276, 1288, 1298, 1321, 1401, 1408, 1433, 1434, 1750, 1752, 2112, 2113],\n",
        "    'type': ['PC', 'PC', 'PC', 'PC', 'Printer', 'Printer', 'Laptop', 'Laptop', 'Printer', 'Printer', 'Printer', 'Printer', 'Laptop', 'Laptop', 'PC', 'PC']\n",
        "}\n",
        "\n",
        "product = pd.DataFrame(product_data)"
      ]
    },
    {
      "cell_type": "code",
      "execution_count": null,
      "metadata": {
        "id": "HDdV43kvqhtr"
      },
      "outputs": [],
      "source": [
        "pc_data = {\n",
        "    'code': [1, 2, 3, 4, 5, 6, 7, 8, 9, 10, 11, 12],\n",
        "    'model': [1232, 1121, 1233, 1121, 1121, 1233, 1232, 1232, 1232, 1260, 1233, 1233],\n",
        "    'speed': [500, 750, 500, 600, 600, 750, 500, 450, 450, 500, 900, 800],\n",
        "    'ram': [64, 128, 64, 128, 128, 128, 32, 64, 32, 32, 128, 128],\n",
        "    'hd': [5.0, 14.0, 5.0, 14.0, 8.0, 20.0, 10.0, 8.0, 10.0, 10.0, 40.0, 20.0],\n",
        "    'cd': ['12x', '40x', '12x', '40x', '40x', '50x', '12x', '24x', '24x', '12x', '40x', '50x'],\n",
        "    'price': [600.0000, 850.0000, 600.0000, 850.0000, 850.0000, 950.0000, 400.0000, 350.0000, 350.0000, 350.0000, 980.0000, 970.0000]\n",
        "}\n",
        "\n",
        "pc = pd.DataFrame(pc_data)"
      ]
    },
    {
      "cell_type": "code",
      "execution_count": null,
      "metadata": {
        "id": "pwS-xlhCqhnm"
      },
      "outputs": [],
      "source": [
        "laptop_data = {\n",
        "    'code': [1, 2, 3, 4, 5, 6],\n",
        "    'model': [1298, 1321, 1750, 1298, 1752, 1298],\n",
        "    'speed': [350, 500, 750, 600, 750, 450],\n",
        "    'ram': [32, 64, 128, 64, 128, 64],\n",
        "    'hd': [4.0, 8.0, 12.0, 10.0, 10.0, 10.0],\n",
        "    'price': [700.0000, 970.0000, 1200.0000, 1050.0000, 1150.0000, 950.0000],\n",
        "    'screen': [11, 12, 14, 15, 14, 12]\n",
        "}\n",
        "\n",
        "laptop = pd.DataFrame(laptop_data)"
      ]
    },
    {
      "cell_type": "code",
      "execution_count": null,
      "metadata": {
        "id": "U0xDL0XVqhjS"
      },
      "outputs": [],
      "source": [
        "printer_data = {\n",
        "    'code': [6, 5, 4, 3, 2, 1],\n",
        "    'model': [1288, 1408, 1401, 1434, 1433, 1276],\n",
        "    'color': ['n', 'n', 'n', 'y', 'y', 'n'],\n",
        "    'type': ['Laser', 'Matrix', 'Matrix', 'Jet', 'Jet', 'Laser'],\n",
        "    'price': [400.0000, 270.0000, 150.0000, 290.0000, 270.0000, 400.0000]\n",
        "}\n",
        "\n",
        "printer = pd.DataFrame(printer_data)"
      ]
    },
    {
      "cell_type": "markdown",
      "metadata": {
        "id": "LCYEWt9kYIm_"
      },
      "source": [
        "# Создание датафреймов (корабли)"
      ]
    },
    {
      "cell_type": "code",
      "execution_count": 118,
      "metadata": {
        "id": "e50V5hnFqhe2"
      },
      "outputs": [],
      "source": [
        "classes_data = {\n",
        "    \"class\": [\"Bismarck\", \"Iowa\", \"Kongo\", \"North Carolina\", \"Renown\", \"Revenge\", \"Tennessee\", \"Yamato\"],\n",
        "    \"type\": [\"bb\", \"bb\", \"bc\", \"bb\", \"bc\", \"bb\", \"bb\", \"bb\"],\n",
        "    \"country\": [\"Germany\", \"USA\", \"Japan\", \"USA\", \"Gt.Britain\", \"Gt.Britain\", \"USA\", \"Japan\"],\n",
        "    \"numGuns\": [8, 9, 8, 12, 6, 8, 12, 9],\n",
        "    \"bore\": [15.0, 16.0, 14.0, 16.0, 15.0, 15.0, 14.0, 18.0],\n",
        "    \"displacement\": [42000, 46000, 32000, 37000, 32000, 29000, 32000, 65000]\n",
        "}\n",
        "\n",
        "classes = pd.DataFrame(classes_data)"
      ]
    },
    {
      "cell_type": "code",
      "execution_count": null,
      "metadata": {
        "id": "WcJxBEF1YMED"
      },
      "outputs": [],
      "source": [
        "ships_data = {\n",
        "    \"name\": [\n",
        "        \"California\", \"Haruna\", \"Hiei\", \"Iowa\", \"Kirishima\", \"Kongo\",\n",
        "        \"Missouri\", \"Musashi\", \"New Jersey\", \"North Carolina\",\n",
        "        \"Ramillies\", \"Renown\", \"Repulse\", \"Resolution\", \"Revenge\",\n",
        "        \"Royal Oak\", \"Royal Sovereign\", \"South Dakota\", \"Tennessee\",\n",
        "        \"Washington\", \"Wisconsin\", \"Yamato\"\n",
        "    ],\n",
        "    \"class\": [\n",
        "        \"Tennessee\", \"Kongo\", \"Kongo\", \"Iowa\", \"Kongo\", \"Kongo\",\n",
        "        \"Iowa\", \"Yamato\", \"Iowa\", \"North Carolina\", \"Revenge\",\n",
        "        \"Renown\", \"Renown\", \"Renown\", \"Revenge\",\n",
        "        \"Revenge\", \"Revenge\", \"North Carolina\", \"Tennessee\",\n",
        "        \"North Carolina\", \"Iowa\", \"Yamato\"\n",
        "    ],\n",
        "    \"launched\": [\n",
        "        1921, 1916, 1914, 1943, 1915, 1913,\n",
        "        1944, 1942, 1943, 1941, 1917,\n",
        "        1916, 1916, 1916, 1916,\n",
        "        1916, 1916, 1941, 1920,\n",
        "        1941, 1944, 1941\n",
        "    ]\n",
        "}\n",
        "\n",
        "ships = pd.DataFrame(ships_data)"
      ]
    },
    {
      "cell_type": "code",
      "execution_count": null,
      "metadata": {
        "id": "0ISjNXOxYwo_"
      },
      "outputs": [],
      "source": [
        "battles_data = {\n",
        "    \"name\": [\n",
        "        \"#Cuba62a\", \"#Cuba62b\", \"Guadalcanal\",\n",
        "        \"North Atlantic\", \"North Cape\", \"Surigao Strait\"\n",
        "    ],\n",
        "    \"date\": [\n",
        "        \"1962-10-20\", \"1962-10-25\", \"1942-11-15\",\n",
        "        \"1941-05-25\", \"1943-12-26\", \"1944-10-25\"\n",
        "    ]\n",
        "}\n",
        "\n",
        "battles = pd.DataFrame(battles_data)"
      ]
    },
    {
      "cell_type": "code",
      "execution_count": null,
      "metadata": {
        "id": "5HdXO8NxZDJk"
      },
      "outputs": [],
      "source": [
        "outcomes_data = {\n",
        "    \"ship\": [\n",
        "        \"Bismarck\", \"California\", \"CAlifornia\", \"Duke of York\", \"Fuso\",\n",
        "        \"Hood\", \"King George V\", \"Kirishima\", \"Prince of Wales\", \"Rodney\",\n",
        "        \"Schamhorst\", \"South Dakota\", \"Tennessee\", \"Washington\",\n",
        "        \"West Virginia\", \"Yamashiro\"\n",
        "    ],\n",
        "    \"battle\": [\n",
        "        \"North Atlantic\", \"Guadalcanal\", \"Surigao Strait\", \"North Cape\",\n",
        "        \"Surigao Strait\", \"North Atlantic\", \"North Atlantic\", \"Guadalcanal\",\n",
        "        \"North Atlantic\", \"North Atlantic\", \"North Cape\", \"Guadalcanal\",\n",
        "        \"Surigao Strait\", \"Guadalcanal\", \"Surigao Strait\", \"Surigao Strait\"\n",
        "    ],\n",
        "    \"result\": [\n",
        "        \"sunk\", \"damaged\", \"ok\", \"ok\", \"sunk\",\n",
        "        \"sunk\", \"ok\", \"sunk\", \"damaged\", \"OK\",\n",
        "        \"sunk\", \"damaged\", \"ok\", \"ok\", \"ok\", \"sunk\"\n",
        "    ]\n",
        "}\n",
        "outcomes = pd.DataFrame(outcomes_data)"
      ]
    },
    {
      "cell_type": "code",
      "execution_count": null,
      "metadata": {
        "id": "RMSBbe3WZZdP"
      },
      "outputs": [],
      "source": [
        "battles['date'] = pd.to_datetime(battles['date'])"
      ]
    },
    {
      "cell_type": "markdown",
      "metadata": {
        "id": "BB9lO_Wt3gsD"
      },
      "source": [
        "# Создание датафреймов (краски)"
      ]
    },
    {
      "cell_type": "code",
      "execution_count": null,
      "metadata": {
        "id": "_tp0SKGj3gGL"
      },
      "outputs": [],
      "source": [
        "utQ_data = {\n",
        "    \"Q_ID\": [1, 2, 3, 4, 5, 6, 7, 8, 9, 10, 11, 12, 13, 14, 15, 16, 17, 18, 19, 20, 21, 22, 23, 25],\n",
        "    \"Q_NAME\": [\n",
        "        \"Square # 01\", \"Square # 02\", \"Square # 03\", \"Square # 04\", \"Square # 05\",\n",
        "        \"Square # 06\", \"Square # 07\", \"Square # 08\", \"Square # 09\", \"Square # 10\",\n",
        "        \"Square # 11\", \"Square # 12\", \"Square # 13\", \"Square # 14\", \"Square # 15\",\n",
        "        \"Square # 16\", \"Square # 17\", \"Square # 18\", \"Square # 19\", \"Square # 20\",\n",
        "        \"Square # 21\", \"Square # 22\", \"Square # 23\", \"Square # 25\"\n",
        "    ]\n",
        "}\n",
        "\n",
        "utQ = pd.DataFrame(utQ_data)"
      ]
    },
    {
      "cell_type": "code",
      "execution_count": null,
      "metadata": {
        "id": "SHGoSWwv3gDp"
      },
      "outputs": [],
      "source": [
        "utB_data = {\n",
        "    \"B_DATETIME\": [\n",
        "        \"2000-01-01 01:13:36\", \"2001-01-01 01:13:37\", \"2002-01-01 01:13:38\",\n",
        "        \"2002-06-01 01:13:39\", \"2003-01-01 01:12:01\", \"2003-01-01 01:12:03\",\n",
        "        \"2003-01-01 01:12:04\", \"2003-01-01 01:12:05\", \"2003-01-01 01:12:06\",\n",
        "        \"2003-01-01 01:12:07\", \"2003-01-01 01:12:08\", \"2003-01-01 01:12:09\",\n",
        "        \"2003-01-01 01:12:10\", \"2003-01-01 01:12:11\", \"2003-01-01 01:12:12\",\n",
        "        \"2003-01-01 01:12:13\", \"2003-01-01 01:12:14\", \"2003-01-01 01:12:15\",\n",
        "        \"2003-01-01 01:12:16\", \"2003-01-01 01:12:17\", \"2003-01-01 01:12:18\",\n",
        "        \"2003-01-01 01:12:19\", \"2003-01-01 01:12:20\", \"2003-01-01 01:12:21\",\n",
        "        \"2003-01-01 01:12:22\", \"2003-01-01 01:12:23\", \"2003-01-01 01:12:24\",\n",
        "        \"2003-01-01 01:12:25\", \"2003-01-01 01:12:26\", \"2003-01-01 01:12:27\",\n",
        "        \"2003-01-01 01:12:28\", \"2003-01-01 01:12:29\", \"2003-01-01 01:12:30\",\n",
        "        \"2003-01-01 01:12:31\", \"2003-01-01 01:12:31\", \"2003-01-01 01:12:33\",\n",
        "        \"2003-01-01 01:12:34\", \"2003-01-01 01:12:35\", \"2003-01-01 01:12:36\",\n",
        "        \"2003-01-01 01:12:37\", \"2003-01-01 01:12:38\", \"2003-01-01 01:12:39\",\n",
        "        \"2003-01-01 01:12:40\", \"2003-01-01 01:12:41\", \"2003-01-01 01:12:42\",\n",
        "        \"2003-01-01 01:12:43\", \"2003-01-01 01:12:44\", \"2003-01-01 01:12:45\",\n",
        "        \"2003-01-01 01:12:46\", \"2003-01-01 01:12:47\", \"2003-01-01 01:12:48\",\n",
        "        \"2003-01-01 01:13:01\", \"2003-01-01 01:13:02\", \"2003-01-01 01:13:03\",\n",
        "        \"2003-01-01 01:13:04\", \"2003-01-01 01:13:05\", \"2003-01-01 01:13:05\",\n",
        "        \"2003-01-01 01:13:06\", \"2003-01-01 01:13:07\", \"2003-01-01 01:13:08\",\n",
        "        \"2003-01-01 01:13:09\", \"2003-01-01 01:13:10\", \"2003-01-01 01:13:11\",\n",
        "        \"2003-01-01 01:13:12\", \"2003-01-01 01:13:13\", \"2003-01-01 01:13:14\",\n",
        "        \"2003-01-01 01:13:15\", \"2003-01-01 01:13:16\", \"2003-01-01 01:13:17\",\n",
        "        \"2003-01-01 01:13:18\", \"2003-01-01 01:13:24\", \"2003-01-01 01:13:25\",\n",
        "        \"2003-01-01 01:13:26\", \"2003-02-01 01:13:19\", \"2003-02-01 01:13:27\",\n",
        "        \"2003-02-01 01:13:31\", \"2003-02-02 01:13:32\", \"2003-02-03 01:13:33\",\n",
        "        \"2003-02-04 01:13:34\", \"2003-02-05 01:13:35\", \"2003-03-01 01:13:20\",\n",
        "        \"2003-03-01 01:13:28\", \"2003-04-01 01:13:21\", \"2003-04-01 01:13:29\",\n",
        "        \"2003-05-01 01:13:22\", \"2003-05-01 01:13:30\", \"2003-06-11 01:13:23\",\n",
        "        \"2003-06-23 01:12:02\"\n",
        "    ],\n",
        "    \"B_Q_ID\": [\n",
        "        22, 22, 22, 22, 1, 2, 3, 1, 2, 3, 1, 2, 3, 4, 5, 5, 5, 5, 5, 5, 6, 6, 6,\n",
        "        6, 7, 7, 7, 7, 8, 9, 9, 9, 9, 10, 10, 10, 10, 10, 10, 11, 11, 11, 11, 11,\n",
        "        11, 12, 12, 12, 12, 12, 12, 4, 8, 13, 14, 4, 14, 15, 15, 15, 15, 16, 16,\n",
        "        16, 16, 16, 17, 17, 17, 17, 19, 19, 19, 18, 20, 21, 21, 21, 21, 21, 18,\n",
        "        20, 18, 20, 18, 20, 19, 1\n",
        "    ],\n",
        "    \"B_V_ID\": [\n",
        "        50, 50, 51, 51, 1, 2, 3, 4, 5, 6, 7, 8, 9, 10, 11, 12, 13, 14, 15, 16,\n",
        "        10, 17, 18, 19, 17, 20, 21, 22, 10, 23, 24, 25, 26, 25, 26, 27, 28, 29,\n",
        "        30, 31, 32, 33, 34, 35, 36, 31, 32, 33, 34, 35, 36, 37, 38, 39, 39, 37,\n",
        "        40, 41, 41, 42, 42, 42, 42, 43, 43, 47, 44, 44, 45, 45, 44, 45, 45, 45,\n",
        "        49, 49, 50, 50, 50, 50, 45, 45, 46, 46, 46, 46, 44, 1\n",
        "    ],\n",
        "    \"B_VOL\": [\n",
        "        50, 50, 50, 50, 155, 255, 255, 255, 255, 255, 255, 255, 255, 50, 100,\n",
        "        155, 155, 100, 50, 205, 155, 100, 255, 255, 155, 100, 255, 255, 50, 255,\n",
        "        255, 100, 155, 155, 100, 10, 10, 245, 245, 100, 100, 100, 155, 155, 155,\n",
        "        155, 155, 155, 100, 100, 100, 20, 20, 123, 111, 185, 50, 50, 50, 50, 50,\n",
        "        50, 50, 50, 50, 10, 10, 10, 10, 10, 10, 10, 50, 50, 50, 50, 1, 1, 50, 50,\n",
        "        10, 10, 10, 10, 10, 10, 10, 100\n",
        "    ]\n",
        "}\n",
        "\n",
        "utB = pd.DataFrame(utB_data)"
      ]
    },
    {
      "cell_type": "code",
      "execution_count": null,
      "metadata": {
        "id": "_2f8CAg53gAe"
      },
      "outputs": [],
      "source": [
        "utV_data = {\n",
        "    \"V_ID\": [\n",
        "        1, 2, 3, 4, 5, 6, 7, 8, 9, 10, 11, 12, 13, 14, 15, 16, 17, 18, 19, 20,\n",
        "        21, 22, 23, 24, 25, 26, 27, 28, 29, 30, 31, 32, 33, 34, 35, 36, 37, 38,\n",
        "        39, 40, 41, 42, 43, 44, 45, 46, 47, 48, 49, 50, 51, 52, 53, 54\n",
        "    ],\n",
        "    \"V_NAME\": [\n",
        "        \"Balloon # 01\", \"Balloon # 02\", \"Balloon # 03\", \"Balloon # 04\", \"Balloon # 05\",\n",
        "        \"Balloon # 06\", \"Balloon # 07\", \"Balloon # 08\", \"Balloon # 09\", \"Balloon # 10\",\n",
        "        \"Balloon # 11\", \"Balloon # 12\", \"Balloon # 13\", \"Balloon # 14\", \"Balloon # 15\",\n",
        "        \"Balloon # 16\", \"Balloon # 17\", \"Balloon # 18\", \"Balloon # 19\", \"Balloon # 20\",\n",
        "        \"Balloon # 21\", \"Balloon # 22\", \"Balloon # 23\", \"Balloon # 24\", \"Balloon # 25\",\n",
        "        \"Balloon # 26\", \"Balloon # 27\", \"Balloon # 28\", \"Balloon # 29\", \"Balloon # 30\",\n",
        "        \"Balloon # 31\", \"Balloon # 32\", \"Balloon # 33\", \"Balloon # 34\", \"Balloon # 35\",\n",
        "        \"Balloon # 36\", \"Balloon # 37\", \"Balloon # 38\", \"Balloon # 39\", \"Balloon # 40\",\n",
        "        \"Balloon # 41\", \"Balloon # 42\", \"Balloon # 43\", \"Balloon # 44\", \"Balloon # 45\",\n",
        "        \"Balloon # 46\", \"Balloon # 47\", \"Balloon # 48\", \"Balloon # 49\", \"Balloon # 50\",\n",
        "        \"Balloon # 51\", \"Balloon # 52\", \"Balloon # 53\", \"Balloon # 54\"\n",
        "    ],\n",
        "    \"V_COLOR\": [\n",
        "        \"R\", \"R\", \"R\", \"G\", \"G\", \"G\", \"B\", \"B\", \"B\", \"R\", \"R\", \"R\", \"G\", \"G\",\n",
        "        \"B\", \"B\", \"R\", \"G\", \"B\", \"R\", \"G\", \"B\", \"R\", \"G\", \"B\", \"B\", \"R\", \"G\",\n",
        "        \"R\", \"G\", \"R\", \"G\", \"B\", \"R\", \"G\", \"B\", \"R\", \"G\", \"B\", \"R\", \"R\", \"G\",\n",
        "        \"B\", \"R\", \"G\", \"B\", \"B\", \"G\", \"R\", \"G\", \"B\", \"R\", \"G\", \"B\"\n",
        "    ]\n",
        "}\n",
        "utV = pd.DataFrame(utV_data)"
      ]
    },
    {
      "cell_type": "code",
      "execution_count": null,
      "metadata": {
        "id": "qjI12-Ti3fzS"
      },
      "outputs": [],
      "source": [
        "utB['B_DATETIME'] = pd.to_datetime(utB['B_DATETIME'])"
      ]
    },
    {
      "cell_type": "markdown",
      "metadata": {
        "id": "u5o_hFO1AexX"
      },
      "source": [
        "# Задачи"
      ]
    },
    {
      "cell_type": "code",
      "execution_count": null,
      "metadata": {
        "id": "n5EkkFPxAhyQ"
      },
      "outputs": [],
      "source": [
        "# income_o, outcome_o, income, outcome\n",
        "# company, trip, passenger, pass_in_trip\n",
        "# product, pc, laptop, printer\n",
        "# сlasses, ships, battles, outcomes\n",
        "# utQ, utB, utV"
      ]
    }
  ],
  "metadata": {
    "colab": {
      "provenance": [],
      "toc_visible": true
    },
    "kernelspec": {
      "display_name": "Python 3",
      "name": "python3"
    },
    "language_info": {
      "name": "python"
    }
  },
  "nbformat": 4,
  "nbformat_minor": 0
}
